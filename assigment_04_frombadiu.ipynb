{
 "cells": [
  {
   "cell_type": "code",
   "execution_count": null,
   "metadata": {},
   "outputs": [],
   "source": [
    "#分词处理\n",
    "import jieba\n",
    "print('主程序执行开始...')\n",
    "\n",
    "input_file_name = 'wiki.txt'\n",
    "output_file_name = 'wiki_separate_new.txt'\n",
    "#input_file = open(input_file_name, 'r', encoding='utf-8', errors=\"ignore\")\n",
    "#input_file = open(input_file_name, 'r', encoding='utf-8')\n",
    "#output_file = open(output_file_name, 'w', encoding='utf-8')\n",
    "input_file = open(output_file_name, 'r', encoding='utf-8', errors=\"ignore\") \n",
    "\n",
    "print('开始读入数据文件...')  \n",
    "lines = input_file.readlines()\n",
    "print('读入数据文件结束！')\n",
    "\n",
    "print('分词程序执行开始...')\n",
    "count = 1\n",
    "\n",
    "for line in lines[1135:]:\n",
    "    #print(line)\n",
    "    # jieba分词的结果是一个list，需要拼接，但是jieba把空格回车都当成一个字符处理\n",
    "    \n",
    "    output_file.write(' '.join(jieba.cut(line.split('\\n')[0].replace(' ', ''))) + '\\n')\n",
    "    count += 1\n",
    "    if count % 10000 == 0:\n",
    "        print('目前已分词%d条数据' % count)\n",
    "     \n",
    "   \n",
    "print('分词程序执行结束！')\n",
    "print('主程序执行结束！')\n"
   ]
  },
  {
   "cell_type": "code",
   "execution_count": null,
   "metadata": {},
   "outputs": [],
   "source": [
    "#去掉标点符号之类的\n",
    "\n",
    "import re\n",
    "\n",
    "print('主程序执行开始...')\n",
    "\n",
    "input_file_name = 'wiki_separate_new.txt'  \n",
    "output_file_name = 'wiki_separate_remove.txt'\n",
    "input_file = open(input_file_name, 'r', encoding='utf-8')\n",
    "#input_file = open(input_file_name, 'r', encoding='gbk')\n",
    "output_file = open(output_file_name, 'w', encoding='utf-8')\n",
    "\n",
    "print('开始读入数据文件...')\n",
    "lines = input_file.readlines()\n",
    "print('读入数据文件结束！')\n",
    "\n",
    "print('分词程序执行开始...')\n",
    "count = 1\n",
    "cn_reg = '^[\\u4e00-\\u9fa5]+$'\n",
    "\n",
    "for line in lines:\n",
    "    line_list = line.split('\\n')[0].split(' ')\n",
    "    line_list_new = []\n",
    "    for word in line_list:\n",
    "        if re.search(cn_reg, word):\n",
    "            line_list_new.append(word)\n",
    "    print(line_list_new)\n",
    "    output_file.write(' '.join(line_list_new) + '\\n')\n",
    "    count += 1\n",
    "    if count % 10000 == 0:\n",
    "        print('目前已分词%d条数据' % count)\n",
    "print('分词程序执行结束！')\n",
    "\n",
    "print('主程序执行结束！')"
   ]
  },
  {
   "cell_type": "code",
   "execution_count": 2,
   "metadata": {},
   "outputs": [
    {
     "data": {
      "text/plain": [
       "'一'"
      ]
     },
     "execution_count": 2,
     "metadata": {},
     "output_type": "execute_result"
    }
   ],
   "source": [
    "'\\u4e00'"
   ]
  },
  {
   "cell_type": "code",
   "execution_count": null,
   "metadata": {},
   "outputs": [],
   "source": [
    "# opencc 转换繁体字"
   ]
  },
  {
   "cell_type": "code",
   "execution_count": 2,
   "metadata": {},
   "outputs": [],
   "source": [
    "from gensim.models import Word2Vec \n"
   ]
  },
  {
   "cell_type": "code",
   "execution_count": 1,
   "metadata": {},
   "outputs": [
    {
     "name": "stdout",
     "output_type": "stream",
     "text": [
      "Looking in indexes: https://pypi.mirrors.ustc.edu.cn/simple/\n",
      "Collecting gensim\n",
      "\u001b[?25l  Downloading https://mirrors.tuna.tsinghua.edu.cn/pypi/web/packages/ef/65/c90886ac34d4b12d3ae0bcc7aece1af57e1f30e7138aabbb3e3c027e705a/gensim-3.8.0-cp35-cp35m-manylinux1_x86_64.whl (24.2MB)\n",
      "\u001b[K    100% |████████████████████████████████| 24.2MB 356kB/s ta 0:00:011\n",
      "\u001b[?25hRequirement already satisfied: six>=1.5.0 in /opt/conda/envs/python35-paddle120-env/lib/python3.5/site-packages (from gensim) (1.11.0)\n",
      "Requirement already satisfied: scipy>=0.18.1 in /opt/conda/envs/python35-paddle120-env/lib/python3.5/site-packages (from gensim) (1.3.0)\n",
      "Collecting smart-open>=1.7.0 (from gensim)\n",
      "\u001b[?25l  Downloading https://mirrors.tuna.tsinghua.edu.cn/pypi/web/packages/37/c0/25d19badc495428dec6a4bf7782de617ee0246a9211af75b302a2681dea7/smart_open-1.8.4.tar.gz (63kB)\n",
      "\u001b[K    100% |████████████████████████████████| 71kB 36.7MB/s ta 0:00:01\n",
      "\u001b[?25hRequirement already satisfied: numpy>=1.11.3 in /opt/conda/envs/python35-paddle120-env/lib/python3.5/site-packages (from gensim) (1.16.4)\n",
      "Collecting boto>=2.32 (from smart-open>=1.7.0->gensim)\n",
      "\u001b[?25l  Downloading https://mirrors.tuna.tsinghua.edu.cn/pypi/web/packages/23/10/c0b78c27298029e4454a472a1919bde20cb182dab1662cec7f2ca1dcc523/boto-2.49.0-py2.py3-none-any.whl (1.4MB)\n",
      "\u001b[K    100% |████████████████████████████████| 1.4MB 20.4MB/s ta 0:00:01\n",
      "\u001b[?25hRequirement already satisfied: requests in /opt/conda/envs/python35-paddle120-env/lib/python3.5/site-packages (from smart-open>=1.7.0->gensim) (2.22.0)\n",
      "Collecting boto3 (from smart-open>=1.7.0->gensim)\n",
      "\u001b[?25l  Downloading https://mirrors.tuna.tsinghua.edu.cn/pypi/web/packages/72/1a/97ca7494fd268835f2d2ea2c6b6ea3b7cfe271f22c2adb1ef45cf007d7f3/boto3-1.9.199-py2.py3-none-any.whl (128kB)\n",
      "\u001b[K    100% |████████████████████████████████| 133kB 29.8MB/s ta 0:00:01\n",
      "\u001b[?25hRequirement already satisfied: idna<2.9,>=2.5 in /opt/conda/envs/python35-paddle120-env/lib/python3.5/site-packages (from requests->smart-open>=1.7.0->gensim) (2.8)\n",
      "Requirement already satisfied: chardet<3.1.0,>=3.0.2 in /opt/conda/envs/python35-paddle120-env/lib/python3.5/site-packages (from requests->smart-open>=1.7.0->gensim) (3.0.4)\n",
      "Requirement already satisfied: urllib3!=1.25.0,!=1.25.1,<1.26,>=1.21.1 in /opt/conda/envs/python35-paddle120-env/lib/python3.5/site-packages (from requests->smart-open>=1.7.0->gensim) (1.25.3)\n",
      "Requirement already satisfied: certifi>=2017.4.17 in /opt/conda/envs/python35-paddle120-env/lib/python3.5/site-packages (from requests->smart-open>=1.7.0->gensim) (2018.8.24)\n",
      "Collecting jmespath<1.0.0,>=0.7.1 (from boto3->smart-open>=1.7.0->gensim)\n",
      "  Downloading https://mirrors.tuna.tsinghua.edu.cn/pypi/web/packages/83/94/7179c3832a6d45b266ddb2aac329e101367fbdb11f425f13771d27f225bb/jmespath-0.9.4-py2.py3-none-any.whl\n",
      "Collecting botocore<1.13.0,>=1.12.199 (from boto3->smart-open>=1.7.0->gensim)\n",
      "\u001b[?25l  Downloading https://mirrors.tuna.tsinghua.edu.cn/pypi/web/packages/50/f8/dbe656ee191c2d8b471a86fa07f0d37515611d865deaa034fc2b71dd71e4/botocore-1.12.199-py2.py3-none-any.whl (5.6MB)\n",
      "\u001b[K    100% |████████████████████████████████| 5.6MB 4.6MB/s ta 0:00:011\n",
      "\u001b[?25hCollecting s3transfer<0.3.0,>=0.2.0 (from boto3->smart-open>=1.7.0->gensim)\n",
      "\u001b[?25l  Downloading https://mirrors.tuna.tsinghua.edu.cn/pypi/web/packages/16/8a/1fc3dba0c4923c2a76e1ff0d52b305c44606da63f718d14d3231e21c51b0/s3transfer-0.2.1-py2.py3-none-any.whl (70kB)\n",
      "\u001b[K    100% |████████████████████████████████| 71kB 29.5MB/s ta 0:00:01\n",
      "\u001b[?25hCollecting docutils<0.15,>=0.10 (from botocore<1.13.0,>=1.12.199->boto3->smart-open>=1.7.0->gensim)\n",
      "\u001b[?25l  Downloading https://mirrors.tuna.tsinghua.edu.cn/pypi/web/packages/36/fa/08e9e6e0e3cbd1d362c3bbee8d01d0aedb2155c4ac112b19ef3cae8eed8d/docutils-0.14-py3-none-any.whl (543kB)\n",
      "\u001b[K    100% |████████████████████████████████| 552kB 33.0MB/s ta 0:00:01\n",
      "\u001b[?25hRequirement already satisfied: python-dateutil<3.0.0,>=2.1; python_version >= \"2.7\" in /opt/conda/envs/python35-paddle120-env/lib/python3.5/site-packages (from botocore<1.13.0,>=1.12.199->boto3->smart-open>=1.7.0->gensim) (2.8.0)\n",
      "Building wheels for collected packages: smart-open\n",
      "  Running setup.py bdist_wheel for smart-open ... \u001b[?25ldone\n",
      "\u001b[?25h  Stored in directory: /home/aistudio/.cache/pip/wheels/fe/2b/6f/352372bc877d0df4d5cf4962b8bfabded57b003acfea25fa09\n",
      "Successfully built smart-open\n",
      "Installing collected packages: boto, jmespath, docutils, botocore, s3transfer, boto3, smart-open, gensim\n",
      "Successfully installed boto-2.49.0 boto3-1.9.199 botocore-1.12.199 docutils-0.14 gensim-3.8.0 jmespath-0.9.4 s3transfer-0.2.1 smart-open-1.8.4\n"
     ]
    }
   ],
   "source": [
    "!pip install gensim\n",
    "\n"
   ]
  },
  {
   "cell_type": "code",
   "execution_count": 5,
   "metadata": {},
   "outputs": [],
   "source": [
    "# 将文本转为 sentence类型\n",
    "sentence=word2vec.LineSentence('/home/aistudio/data/data10502/wiki_final.txt')"
   ]
  },
  {
   "cell_type": "code",
   "execution_count": 3,
   "metadata": {},
   "outputs": [],
   "source": [
    "from gensim.models import word2vec  "
   ]
  },
  {
   "cell_type": "code",
   "execution_count": 6,
   "metadata": {},
   "outputs": [
    {
     "name": "stdout",
     "output_type": "stream",
     "text": [
      "CPU times: user 2 µs, sys: 1 µs, total: 3 µs\n",
      "Wall time: 6.91 µs\n"
     ]
    },
    {
     "data": {
      "text/plain": [
       "<gensim.models.word2vec.LineSentence at 0x7f7640666518>"
      ]
     },
     "execution_count": 6,
     "metadata": {},
     "output_type": "execute_result"
    }
   ],
   "source": [
    "%%time\n",
    "\n",
    "sentence"
   ]
  },
  {
   "cell_type": "code",
   "execution_count": 7,
   "metadata": {},
   "outputs": [
    {
     "name": "stdout",
     "output_type": "stream",
     "text": [
      "CPU times: user 1h 25min 19s, sys: 39.8 s, total: 1h 25min 59s\n",
      "Wall time: 30min 5s\n"
     ]
    }
   ],
   "source": [
    "#训练半个小时\n",
    "%%time \n",
    "model = Word2Vec(sentence, size=200, window=5, min_count=5, workers=4)"
   ]
  },
  {
   "cell_type": "code",
   "execution_count": 8,
   "metadata": {},
   "outputs": [],
   "source": [
    "model.save(\"word2vec_final.model\")"
   ]
  },
  {
   "cell_type": "code",
   "execution_count": 6,
   "metadata": {},
   "outputs": [
    {
     "data": {
      "text/plain": [
       "array([ 0.82915163, -1.5761962 , -2.0205092 ,  1.2866601 ,  0.29717436,\n",
       "        1.3328071 , -2.5702708 , -0.1610706 ,  0.73208255, -0.06811322,\n",
       "       -0.6025819 , -0.3711156 , -0.8706292 ,  0.35088748,  1.3858255 ,\n",
       "        2.1268117 , -1.0851719 ,  0.9832088 ,  0.92378086, -2.0275881 ,\n",
       "       -1.4257358 ,  1.5018803 , -0.55153084, -0.10218675, -0.7303771 ,\n",
       "       -2.035997  , -1.5197991 , -0.811299  , -0.23986307, -0.37491402,\n",
       "        1.5901533 ,  0.6034626 ,  1.1089395 , -0.15557145, -1.8726454 ,\n",
       "       -1.1457927 ,  1.97081   , -0.70589495,  0.93161434, -0.541487  ,\n",
       "       -2.1555758 , -0.10670734,  0.33455846, -1.1973968 ,  2.0645285 ,\n",
       "       -1.1935514 ,  0.47852913,  2.1880007 ,  1.997919  , -1.2811989 ,\n",
       "       -1.4890558 ,  1.9128842 ,  0.6014924 ,  0.3671793 ,  1.1904514 ,\n",
       "       -2.50762   , -0.8408596 , -3.3594294 , -0.98957914, -0.8736188 ,\n",
       "        0.68906224,  0.01181333,  0.20253518,  0.96189386, -0.08212715,\n",
       "        0.4314675 ,  1.5336426 , -0.10434972, -1.1437386 , -1.1963893 ,\n",
       "        0.3100307 , -3.9858496 ,  0.14893548,  0.03369637,  4.3491044 ,\n",
       "       -1.2167268 ,  0.41348746, -0.7122214 ,  1.8011718 , -0.38834196,\n",
       "        1.4936395 , -3.1502757 , -1.0528573 ,  1.4847133 ,  1.495537  ,\n",
       "        2.407251  ,  0.93206143,  3.635892  ,  1.8375658 ,  0.26367465,\n",
       "        0.8430178 , -1.6686034 ,  1.6043363 , -1.7595797 ,  1.8120602 ,\n",
       "       -0.2638824 , -0.52769166, -1.8320187 , -0.3144849 , -1.1608125 ,\n",
       "       -0.5008824 , -1.5995331 ,  1.865136  , -2.438761  , -0.42186484,\n",
       "        0.58185583, -2.3680162 ,  1.1886657 ,  1.0615411 , -0.24414864,\n",
       "       -2.4307039 , -2.7185156 , -1.417337  , -1.8763633 ,  1.6097728 ,\n",
       "       -0.2980071 ,  1.6245278 ,  1.3800567 ,  0.758725  , -2.7814054 ,\n",
       "        1.6172606 ,  1.3801167 ,  1.9408921 , -0.694388  ,  0.39170015,\n",
       "        0.6863436 , -1.9025284 , -1.2067959 , -0.3844321 ,  0.6617282 ,\n",
       "       -1.0007898 ,  1.4538102 , -3.0700998 ,  1.596306  ,  3.228718  ,\n",
       "        3.0771244 , -0.7862241 , -1.5769278 ,  0.24914294, -0.26991415,\n",
       "        0.5984622 ,  0.8310594 ,  0.09261873, -1.3286985 , -0.8822257 ,\n",
       "        1.5517682 , -0.9785209 , -1.275045  , -2.6056337 , -0.6203857 ,\n",
       "        0.516785  ,  1.9006844 ,  2.0199938 , -1.5696173 ,  1.1476873 ,\n",
       "        0.70911634, -0.88389826,  0.8410354 ,  0.32684043, -0.6417235 ,\n",
       "       -1.6678928 ,  0.201708  ,  0.02800343,  1.6821228 ,  4.2376637 ,\n",
       "       -2.676933  ,  3.7831585 ,  0.31989944,  0.5985627 ,  0.83165   ,\n",
       "       -2.0397387 , -2.4143317 ,  0.56707335, -0.3265633 , -0.30213377,\n",
       "       -2.3265274 ,  0.7540053 ,  1.1059971 , -0.19758777,  0.21327598,\n",
       "       -0.663637  ,  1.0126728 ,  2.5800686 ,  0.30291194, -0.5511008 ,\n",
       "        2.024402  , -2.0769918 , -2.0134633 ,  1.4263471 ,  0.44806314,\n",
       "        0.11362997, -0.16631147, -0.7821584 , -0.39905053,  2.5556297 ,\n",
       "        0.91998076,  1.3490748 , -2.1736767 , -0.17075756,  0.49275613],\n",
       "      dtype=float32)"
      ]
     },
     "execution_count": 6,
     "metadata": {},
     "output_type": "execute_result"
    }
   ],
   "source": [
    "model.wv['数学']"
   ]
  },
  {
   "cell_type": "code",
   "execution_count": 4,
   "metadata": {},
   "outputs": [],
   "source": [
    "model = Word2Vec.load(\"word2vec_final.model\")"
   ]
  },
  {
   "cell_type": "code",
   "execution_count": 7,
   "metadata": {},
   "outputs": [
    {
     "name": "stderr",
     "output_type": "stream",
     "text": [
      "/opt/conda/envs/python35-paddle120-env/lib/python3.5/site-packages/ipykernel_launcher.py:1: DeprecationWarning: Call to deprecated `most_similar` (Method will be removed in 4.0.0, use self.wv.most_similar() instead).\n",
      "  \"\"\"Entry point for launching an IPython kernel.\n"
     ]
    },
    {
     "data": {
      "text/plain": [
       "[('迷人', 0.7782797813415527),\n",
       " ('可爱', 0.7375848293304443),\n",
       " ('诱人', 0.7066563367843628),\n",
       " ('漂亮', 0.7062100768089294),\n",
       " ('甜美', 0.6972771286964417),\n",
       " ('优雅', 0.6940381526947021),\n",
       " ('美好', 0.6671380400657654),\n",
       " ('灿烂', 0.6568256616592407),\n",
       " ('温柔', 0.65470951795578),\n",
       " ('美妙', 0.6513704657554626)]"
      ]
     },
     "execution_count": 7,
     "metadata": {},
     "output_type": "execute_result"
    }
   ],
   "source": [
    "model.most_similar('美丽')"
   ]
  },
  {
   "cell_type": "code",
   "execution_count": 8,
   "metadata": {},
   "outputs": [
    {
     "data": {
      "text/plain": [
       "0.14520865678787231"
      ]
     },
     "execution_count": 8,
     "metadata": {},
     "output_type": "execute_result"
    }
   ],
   "source": [
    "model.wv.distance('凉爽', '炎热')\n"
   ]
  },
  {
   "cell_type": "code",
   "execution_count": 12,
   "metadata": {},
   "outputs": [
    {
     "data": {
      "text/plain": [
       "0.2516061067581177"
      ]
     },
     "execution_count": 12,
     "metadata": {},
     "output_type": "execute_result"
    }
   ],
   "source": [
    "model.wv.distance('凉爽', '酷热')"
   ]
  },
  {
   "cell_type": "code",
   "execution_count": 13,
   "metadata": {},
   "outputs": [
    {
     "data": {
      "text/plain": [
       "[('儿子', 0.8078967332839966),\n",
       " ('大儿子', 0.734472393989563),\n",
       " ('小儿子', 0.7303576469421387),\n",
       " ('妹妹', 0.7197036743164062),\n",
       " ('弟弟', 0.712992250919342),\n",
       " ('哥哥', 0.7056338787078857),\n",
       " ('姐姐', 0.7037845849990845),\n",
       " ('妻子', 0.6865792274475098),\n",
       " ('舅舅', 0.6747943162918091),\n",
       " ('养女', 0.6718052625656128)]"
      ]
     },
     "execution_count": 13,
     "metadata": {},
     "output_type": "execute_result"
    }
   ],
   "source": [
    "model.wv.most_similar(positive=['女儿', '爸爸'], negative=['妈妈'])"
   ]
  },
  {
   "cell_type": "code",
   "execution_count": 14,
   "metadata": {},
   "outputs": [],
   "source": [
    "def tsne_plot(model):\n",
    "    labels = []\n",
    "    tokens = []\n",
    "    \n",
    "    words = ['数学', '酷热', '爸妈', '美丽', '大小', '陶渊明']\n",
    "    for word in words:\n",
    "        labels.append(word)\n",
    "        tokens.append(model[word])\n",
    "        for sim, _ in model.wv.most_similar(word, topn=50):\n",
    "            labels.append(sim)\n",
    "            tokens.append(model[sim])\n",
    "        \n",
    "    tsne = TSNE(perplexity=40, init='pca', n_iter=3500, random_state=42)\n",
    "    new_vectors = tsne.fit_transform(tokens)\n",
    "    \n",
    "    x, y = [], []\n",
    "    for v1, v2 in new_vectors:\n",
    "        x.append(v1)\n",
    "        y.append(v2)\n",
    "        \n",
    "    plt.figure(figsize=(16, 16))\n",
    "    for i in range(len(x)):\n",
    "        plt.scatter(x[i], y[i])\n",
    "        plt.annotate(labels[i], xy=(x[i], y[i]), xytext=(3, 2), textcoords='offset points', ha='center', va='bottom')\n",
    "        \n",
    "    plt.show()"
   ]
  },
  {
   "cell_type": "code",
   "execution_count": 17,
   "metadata": {},
   "outputs": [
    {
     "name": "stderr",
     "output_type": "stream",
     "text": [
      "/opt/conda/envs/python35-paddle120-env/lib/python3.5/site-packages/ipykernel_launcher.py:8: DeprecationWarning: Call to deprecated `__getitem__` (Method will be removed in 4.0.0, use self.wv.__getitem__() instead).\n",
      "  \n",
      "/opt/conda/envs/python35-paddle120-env/lib/python3.5/site-packages/ipykernel_launcher.py:11: DeprecationWarning: Call to deprecated `__getitem__` (Method will be removed in 4.0.0, use self.wv.__getitem__() instead).\n",
      "  # This is added back by InteractiveShellApp.init_path()\n",
      "/opt/conda/envs/python35-paddle120-env/lib/python3.5/site-packages/matplotlib/font_manager.py:1331: UserWarning: findfont: Font family ['sans-serif'] not found. Falling back to DejaVu Sans\n",
      "  (prop.get_family(), self.defaultFamily[fontext]))\n"
     ]
    },
    {
     "data": {
      "image/png": "[encoded data removed]",
      "text/plain": [
       "<Figure size 1152x1152 with 1 Axes>"
      ]
     },
     "metadata": {},
     "output_type": "display_data"
    }
   ],
   "source": [
    "tsne_plot(model)"
   ]
  },
  {
   "cell_type": "code",
   "execution_count": 16,
   "metadata": {},
   "outputs": [],
   "source": [
    "from sklearn.manifold import TSNE\n",
    "import matplotlib.pyplot as plt\n",
    "%matplotlib inline\n",
    "plt.rcParams['font.sans-serif'] = ['SimHei'] \n",
    "plt.rcParams['axes.unicode_minus'] = False"
   ]
  },
  {
   "cell_type": "code",
   "execution_count": 11,
   "metadata": {},
   "outputs": [
    {
     "data": {
      "text/plain": [
       "0.25693386793136597"
      ]
     },
     "execution_count": 11,
     "metadata": {},
     "output_type": "execute_result"
    }
   ],
   "source": [
    "model.wv.distance('嫉妒', '羡慕')"
   ]
  },
  {
   "cell_type": "code",
   "execution_count": null,
   "metadata": {},
   "outputs": [],
   "source": []
  }
 ],
 "metadata": {
  "kernelspec": {
   "display_name": "Python 3",
   "language": "python",
   "name": "python3"
  },
  "language_info": {
   "codemirror_mode": {
    "name": "ipython",
    "version": 3
   },
   "file_extension": ".py",
   "mimetype": "text/x-python",
   "name": "python",
   "nbconvert_exporter": "python",
   "pygments_lexer": "ipython3",
   "version": "3.6.5"
  }
 },
 "nbformat": 4,
 "nbformat_minor": 1
}
